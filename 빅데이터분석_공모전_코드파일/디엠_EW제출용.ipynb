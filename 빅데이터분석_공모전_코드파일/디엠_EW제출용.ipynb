{
 "cells": [
  {
   "cell_type": "code",
   "execution_count": 5,
   "id": "997a0d2c",
   "metadata": {},
   "outputs": [],
   "source": [
    "import pandas as pd\n",
    "import numpy as np\n",
    "import matplotlib.pyplot as plt\n",
    "import seaborn as sns\n",
    "plt.rcParams['font.family'] = 'Malgun Gothic'"
   ]
  },
  {
   "cell_type": "code",
   "execution_count": 2,
   "id": "ec029bf5",
   "metadata": {},
   "outputs": [],
   "source": [
    "df= pd.read_csv('EW_csv.csv',encoding='CP949')"
   ]
  },
  {
   "cell_type": "markdown",
   "id": "ca63c6fe",
   "metadata": {},
   "source": [
    "# 연령별 EW등급, 정상률, 폐업률, 부도율 비교\n",
    "- 청년층 : 2~30대\n",
    "- 중장년층 : 4~60대 \n",
    "- 청년층과 중장년층의 부도율, 정상률, 폐업률 비교  "
   ]
  },
  {
   "cell_type": "code",
   "execution_count": 17,
   "id": "2e62a267",
   "metadata": {},
   "outputs": [],
   "source": [
    "temp= ~((df.대표자연령구간 == '10대미만') | (df.대표자연령구간 == '90대이상') | (df.대표자연령구간 == '정보없음'))\n",
    "df=df[temp]\n",
    "test = df.groupby(['대표자연령구간','EW등급'])['EW등급'].count()\n",
    "test=pd.DataFrame(test)\n",
    "test=test.unstack()\n",
    "test = test.fillna(0)\n",
    "test=test.reset_index()\n",
    "test['총합']=test.sum(axis=1)\n",
    "total = test['총합']\n",
    "normal = test['EW등급']['정상']\n",
    "rate = (normal/total)*100\n",
    "test['정상률']=rate\n",
    "dead= test['EW등급']['폐업']\n",
    "rate = (dead/total)*100\n",
    "test['폐업률']=rate\n",
    "budo=((test['EW등급']['관심']*0.15)+(test['EW등급']['관찰1']*0.20)+(test['EW등급']['관찰2']*0.30)+(test['EW등급']['관찰3']*0.90)+(test['EW등급']['부도']*1))\n",
    "budo_sum=test['EW등급']['관심']+test['EW등급']['관찰1']+test['EW등급']['관찰2']+test['EW등급']['관찰3']+test['EW등급']['부도']+test['EW등급']['정상']+test['EW등급']['폐업']\n",
    "budo_rate = (budo/budo_sum)*100\n",
    "test['부도율']=budo_rate\n",
    "test=test.set_index('대표자연령구간')\n"
   ]
  },
  {
   "cell_type": "code",
   "execution_count": 18,
   "id": "6a889610",
   "metadata": {},
   "outputs": [
    {
     "name": "stdout",
     "output_type": "stream",
     "text": [
      "['관심', '관찰1', '관찰2', '관찰3', '부도', '정상', '폐업', '휴업', '총합', '정상률', '폐업률', '부도율']\n"
     ]
    },
    {
     "data": {
      "text/html": [
       "<div>\n",
       "<style scoped>\n",
       "    .dataframe tbody tr th:only-of-type {\n",
       "        vertical-align: middle;\n",
       "    }\n",
       "\n",
       "    .dataframe tbody tr th {\n",
       "        vertical-align: top;\n",
       "    }\n",
       "\n",
       "    .dataframe thead th {\n",
       "        text-align: right;\n",
       "    }\n",
       "</style>\n",
       "<table border=\"1\" class=\"dataframe\">\n",
       "  <thead>\n",
       "    <tr style=\"text-align: right;\">\n",
       "      <th></th>\n",
       "      <th>관심</th>\n",
       "      <th>관찰1</th>\n",
       "      <th>관찰2</th>\n",
       "      <th>관찰3</th>\n",
       "      <th>부도</th>\n",
       "      <th>정상</th>\n",
       "      <th>폐업</th>\n",
       "      <th>휴업</th>\n",
       "      <th>총합</th>\n",
       "      <th>정상률</th>\n",
       "      <th>폐업률</th>\n",
       "      <th>부도율</th>\n",
       "    </tr>\n",
       "    <tr>\n",
       "      <th>대표자연령구간</th>\n",
       "      <th></th>\n",
       "      <th></th>\n",
       "      <th></th>\n",
       "      <th></th>\n",
       "      <th></th>\n",
       "      <th></th>\n",
       "      <th></th>\n",
       "      <th></th>\n",
       "      <th></th>\n",
       "      <th></th>\n",
       "      <th></th>\n",
       "      <th></th>\n",
       "    </tr>\n",
       "  </thead>\n",
       "  <tbody>\n",
       "    <tr>\n",
       "      <th>10대</th>\n",
       "      <td>269.0</td>\n",
       "      <td>161.0</td>\n",
       "      <td>306.0</td>\n",
       "      <td>81.0</td>\n",
       "      <td>0.0</td>\n",
       "      <td>12739.0</td>\n",
       "      <td>498.0</td>\n",
       "      <td>10.0</td>\n",
       "      <td>14064.0</td>\n",
       "      <td>90.578783</td>\n",
       "      <td>3.540956</td>\n",
       "      <td>1.688131</td>\n",
       "    </tr>\n",
       "    <tr>\n",
       "      <th>20대</th>\n",
       "      <td>15714.0</td>\n",
       "      <td>18821.0</td>\n",
       "      <td>62673.0</td>\n",
       "      <td>14367.0</td>\n",
       "      <td>93.0</td>\n",
       "      <td>648371.0</td>\n",
       "      <td>45283.0</td>\n",
       "      <td>1512.0</td>\n",
       "      <td>806834.0</td>\n",
       "      <td>80.359901</td>\n",
       "      <td>5.612431</td>\n",
       "      <td>4.711966</td>\n",
       "    </tr>\n",
       "    <tr>\n",
       "      <th>30대</th>\n",
       "      <td>73567.0</td>\n",
       "      <td>119293.0</td>\n",
       "      <td>283568.0</td>\n",
       "      <td>77145.0</td>\n",
       "      <td>1000.0</td>\n",
       "      <td>2679303.0</td>\n",
       "      <td>448429.0</td>\n",
       "      <td>9615.0</td>\n",
       "      <td>3691920.0</td>\n",
       "      <td>72.572076</td>\n",
       "      <td>12.146227</td>\n",
       "      <td>5.170526</td>\n",
       "    </tr>\n",
       "    <tr>\n",
       "      <th>40대</th>\n",
       "      <td>203351.0</td>\n",
       "      <td>319298.0</td>\n",
       "      <td>591995.0</td>\n",
       "      <td>220239.0</td>\n",
       "      <td>3433.0</td>\n",
       "      <td>6142955.0</td>\n",
       "      <td>1563309.0</td>\n",
       "      <td>32067.0</td>\n",
       "      <td>9076647.0</td>\n",
       "      <td>67.678681</td>\n",
       "      <td>17.223420</td>\n",
       "      <td>5.236383</td>\n",
       "    </tr>\n",
       "    <tr>\n",
       "      <th>50대</th>\n",
       "      <td>253628.0</td>\n",
       "      <td>501334.0</td>\n",
       "      <td>745512.0</td>\n",
       "      <td>280861.0</td>\n",
       "      <td>8957.0</td>\n",
       "      <td>7921432.0</td>\n",
       "      <td>2479142.0</td>\n",
       "      <td>46802.0</td>\n",
       "      <td>12237668.0</td>\n",
       "      <td>64.729914</td>\n",
       "      <td>20.258288</td>\n",
       "      <td>5.116097</td>\n",
       "    </tr>\n",
       "    <tr>\n",
       "      <th>60대</th>\n",
       "      <td>109361.0</td>\n",
       "      <td>301572.0</td>\n",
       "      <td>372568.0</td>\n",
       "      <td>128629.0</td>\n",
       "      <td>6601.0</td>\n",
       "      <td>4852993.0</td>\n",
       "      <td>1618851.0</td>\n",
       "      <td>28880.0</td>\n",
       "      <td>7419455.0</td>\n",
       "      <td>65.409023</td>\n",
       "      <td>21.819002</td>\n",
       "      <td>4.206115</td>\n",
       "    </tr>\n",
       "    <tr>\n",
       "      <th>70대</th>\n",
       "      <td>20015.0</td>\n",
       "      <td>68305.0</td>\n",
       "      <td>73329.0</td>\n",
       "      <td>21492.0</td>\n",
       "      <td>1439.0</td>\n",
       "      <td>1474312.0</td>\n",
       "      <td>498708.0</td>\n",
       "      <td>6264.0</td>\n",
       "      <td>2163864.0</td>\n",
       "      <td>68.133302</td>\n",
       "      <td>23.047105</td>\n",
       "      <td>2.755087</td>\n",
       "    </tr>\n",
       "    <tr>\n",
       "      <th>80대</th>\n",
       "      <td>2162.0</td>\n",
       "      <td>11005.0</td>\n",
       "      <td>12163.0</td>\n",
       "      <td>3087.0</td>\n",
       "      <td>422.0</td>\n",
       "      <td>347045.0</td>\n",
       "      <td>113274.0</td>\n",
       "      <td>964.0</td>\n",
       "      <td>490122.0</td>\n",
       "      <td>70.807880</td>\n",
       "      <td>23.111389</td>\n",
       "      <td>1.916456</td>\n",
       "    </tr>\n",
       "    <tr>\n",
       "      <th>90대</th>\n",
       "      <td>105.0</td>\n",
       "      <td>788.0</td>\n",
       "      <td>863.0</td>\n",
       "      <td>140.0</td>\n",
       "      <td>0.0</td>\n",
       "      <td>50759.0</td>\n",
       "      <td>12003.0</td>\n",
       "      <td>79.0</td>\n",
       "      <td>64737.0</td>\n",
       "      <td>78.408020</td>\n",
       "      <td>18.541174</td>\n",
       "      <td>0.863389</td>\n",
       "    </tr>\n",
       "  </tbody>\n",
       "</table>\n",
       "</div>"
      ],
      "text/plain": [
       "               관심       관찰1       관찰2       관찰3      부도         정상         폐업  \\\n",
       "대표자연령구간                                                                         \n",
       "10대         269.0     161.0     306.0      81.0     0.0    12739.0      498.0   \n",
       "20대       15714.0   18821.0   62673.0   14367.0    93.0   648371.0    45283.0   \n",
       "30대       73567.0  119293.0  283568.0   77145.0  1000.0  2679303.0   448429.0   \n",
       "40대      203351.0  319298.0  591995.0  220239.0  3433.0  6142955.0  1563309.0   \n",
       "50대      253628.0  501334.0  745512.0  280861.0  8957.0  7921432.0  2479142.0   \n",
       "60대      109361.0  301572.0  372568.0  128629.0  6601.0  4852993.0  1618851.0   \n",
       "70대       20015.0   68305.0   73329.0   21492.0  1439.0  1474312.0   498708.0   \n",
       "80대        2162.0   11005.0   12163.0    3087.0   422.0   347045.0   113274.0   \n",
       "90대         105.0     788.0     863.0     140.0     0.0    50759.0    12003.0   \n",
       "\n",
       "              휴업          총합        정상률        폐업률       부도율  \n",
       "대표자연령구간                                                       \n",
       "10대         10.0     14064.0  90.578783   3.540956  1.688131  \n",
       "20대       1512.0    806834.0  80.359901   5.612431  4.711966  \n",
       "30대       9615.0   3691920.0  72.572076  12.146227  5.170526  \n",
       "40대      32067.0   9076647.0  67.678681  17.223420  5.236383  \n",
       "50대      46802.0  12237668.0  64.729914  20.258288  5.116097  \n",
       "60대      28880.0   7419455.0  65.409023  21.819002  4.206115  \n",
       "70대       6264.0   2163864.0  68.133302  23.047105  2.755087  \n",
       "80대        964.0    490122.0  70.807880  23.111389  1.916456  \n",
       "90대         79.0     64737.0  78.408020  18.541174  0.863389  "
      ]
     },
     "execution_count": 18,
     "metadata": {},
     "output_type": "execute_result"
    }
   ],
   "source": [
    "col_li=list(map(lambda x: ' '.join(x[1:]),test.columns))\n",
    "col_li[8]='총합'\n",
    "col_li[9]='정상률'\n",
    "col_li[10]='폐업률'\n",
    "col_li[11]='부도율'\n",
    "print(col_li)\n",
    "test.columns=col_li\n",
    "test\n"
   ]
  },
  {
   "cell_type": "markdown",
   "id": "f84a59dd",
   "metadata": {},
   "source": [
    "### 연령별 부도율 : 20~60대 모두 큰 차이 없이 비슷함"
   ]
  },
  {
   "cell_type": "code",
   "execution_count": 19,
   "id": "bdca795d",
   "metadata": {},
   "outputs": [
    {
     "data": {
      "text/plain": [
       "<AxesSubplot:xlabel='대표자연령구간', ylabel='부도율'>"
      ]
     },
     "execution_count": 19,
     "metadata": {},
     "output_type": "execute_result"
    },
    {
     "data": {
      "image/png": "[encoded data removed]",
      "text/plain": [
       "<Figure size 432x288 with 1 Axes>"
      ]
     },
     "metadata": {
      "needs_background": "light"
     },
     "output_type": "display_data"
    }
   ],
   "source": [
    "index=test.index\n",
    "temp=test.columns\n",
    "sns.barplot(x=index,y='부도율',data=test,palette=\"Reds\")"
   ]
  },
  {
   "cell_type": "markdown",
   "id": "2bc3b54c",
   "metadata": {},
   "source": [
    "### 연령별 정상률 : 중장년층의 정상률은 점점 낮아지는 추세"
   ]
  },
  {
   "cell_type": "code",
   "execution_count": 20,
   "id": "f52d56c3",
   "metadata": {},
   "outputs": [
    {
     "data": {
      "text/plain": [
       "<AxesSubplot:xlabel='대표자연령구간', ylabel='정상률'>"
      ]
     },
     "execution_count": 20,
     "metadata": {},
     "output_type": "execute_result"
    },
    {
     "data": {
      "image/png": "[encoded data removed]",
      "text/plain": [
       "<Figure size 432x288 with 1 Axes>"
      ]
     },
     "metadata": {
      "needs_background": "light"
     },
     "output_type": "display_data"
    }
   ],
   "source": [
    "sns.barplot(x=index,y='정상률',data=test,palette=\"Reds\")"
   ]
  },
  {
   "cell_type": "markdown",
   "id": "d910ca73",
   "metadata": {},
   "source": [
    "### 폐업률은 연령, 업력이 높아질수록 자연스럽게 증가함을 알 수 있음"
   ]
  },
  {
   "cell_type": "code",
   "execution_count": 21,
   "id": "2ee4324a",
   "metadata": {},
   "outputs": [
    {
     "data": {
      "text/plain": [
       "<AxesSubplot:xlabel='대표자연령구간', ylabel='폐업률'>"
      ]
     },
     "execution_count": 21,
     "metadata": {},
     "output_type": "execute_result"
    },
    {
     "data": {
      "image/png": "[encoded data removed]",
      "text/plain": [
       "<Figure size 432x288 with 1 Axes>"
      ]
     },
     "metadata": {
      "needs_background": "light"
     },
     "output_type": "display_data"
    }
   ],
   "source": [
    "sns.barplot(x=index,y='폐업률',data=test,palette=\"Reds\")"
   ]
  },
  {
   "cell_type": "code",
   "execution_count": null,
   "id": "b791dae7",
   "metadata": {},
   "outputs": [],
   "source": []
  }
 ],
 "metadata": {
  "kernelspec": {
   "display_name": "Python 3",
   "language": "python",
   "name": "python3"
  },
  "language_info": {
   "codemirror_mode": {
    "name": "ipython",
    "version": 3
   },
   "file_extension": ".py",
   "mimetype": "text/x-python",
   "name": "python",
   "nbconvert_exporter": "python",
   "pygments_lexer": "ipython3",
   "version": "3.8.8"
  }
 },
 "nbformat": 4,
 "nbformat_minor": 5
}
